{
 "cells": [
  {
   "cell_type": "code",
   "execution_count": 167,
   "metadata": {},
   "outputs": [],
   "source": [
    "import pandas as pd\n",
    "import numpy as np\n",
    "from sklearn.datasets import fetch_california_housing\n",
    "from sklearn.model_selection import train_test_split\n",
    "import matplotlib.pyplot as plt\n",
    "%matplotlib inline\n",
    "\n",
    "# 識別子の作成\n",
    "from sklearn.base import BaseEstimator, TransformerMixin"
   ]
  },
  {
   "cell_type": "code",
   "execution_count": 168,
   "metadata": {},
   "outputs": [
    {
     "name": "stdout",
     "output_type": "stream",
     "text": [
      "         MedInc   HouseAge  AveRooms  AveBedrms   Population  AveOccup  \\\n",
      "0      4.454529  12.360514  1.555127  -0.072866 -1103.476744 -0.515100   \n",
      "1      4.430729  -7.639486  0.809137  -0.124795   975.523256 -0.960813   \n",
      "2      3.386729  23.360514  2.859136  -0.023229  -929.476744 -0.268395   \n",
      "3      1.772429  23.360514  0.388352  -0.023616  -867.476744 -0.522710   \n",
      "4     -0.024471  23.360514  0.852854  -0.015594  -860.476744 -0.889188   \n",
      "...         ...        ...       ...        ...          ...       ...   \n",
      "20635 -2.310371  -3.639486 -0.383545   0.036658  -580.476744 -0.510049   \n",
      "20636 -1.313871 -10.639486  0.685035   0.219114 -1069.476744  0.052152   \n",
      "20637 -2.170671 -11.639486 -0.223457   0.023417  -418.476744 -0.745020   \n",
      "20638 -2.003471 -10.639486 -0.099487   0.075245  -684.476744 -0.947446   \n",
      "20639 -1.482071 -12.639486 -0.174283   0.065589   -38.476744 -0.453674   \n",
      "\n",
      "       Latitude  Longitude  \n",
      "0      2.248139  -2.660296  \n",
      "1      2.228139  -2.650296  \n",
      "2      2.218139  -2.670296  \n",
      "3      2.218139  -2.680296  \n",
      "4      2.218139  -2.680296  \n",
      "...         ...        ...  \n",
      "20635  3.848139  -1.520296  \n",
      "20636  3.858139  -1.640296  \n",
      "20637  3.798139  -1.650296  \n",
      "20638  3.798139  -1.750296  \n",
      "20639  3.738139  -1.670296  \n",
      "\n",
      "[20640 rows x 8 columns]\n"
     ]
    }
   ],
   "source": [
    "# Classをインスタンス化\n",
    "mean_model = SimpleConverter()\n",
    "\n",
    "# Classを学習して変換\n",
    "mean_model.fit(df_X)\n",
    "X_mean = mean_model.transform(df_X)\n",
    "print(X_mean)"
   ]
  },
  {
   "cell_type": "code",
   "execution_count": 169,
   "metadata": {},
   "outputs": [
    {
     "data": {
      "text/html": [
       "<div>\n",
       "<style scoped>\n",
       "    .dataframe tbody tr th:only-of-type {\n",
       "        vertical-align: middle;\n",
       "    }\n",
       "\n",
       "    .dataframe tbody tr th {\n",
       "        vertical-align: top;\n",
       "    }\n",
       "\n",
       "    .dataframe thead th {\n",
       "        text-align: right;\n",
       "    }\n",
       "</style>\n",
       "<table border=\"1\" class=\"dataframe\">\n",
       "  <thead>\n",
       "    <tr style=\"text-align: right;\">\n",
       "      <th></th>\n",
       "      <th>MedInc</th>\n",
       "      <th>HouseAge</th>\n",
       "      <th>AveRooms</th>\n",
       "      <th>AveBedrms</th>\n",
       "      <th>Population</th>\n",
       "      <th>AveOccup</th>\n",
       "      <th>Latitude</th>\n",
       "      <th>Longitude</th>\n",
       "    </tr>\n",
       "  </thead>\n",
       "  <tbody>\n",
       "    <tr>\n",
       "      <th>0</th>\n",
       "      <td>4.454529</td>\n",
       "      <td>12.360514</td>\n",
       "      <td>1.555127</td>\n",
       "      <td>-0.072866</td>\n",
       "      <td>-1103.476744</td>\n",
       "      <td>-0.515100</td>\n",
       "      <td>2.248139</td>\n",
       "      <td>-2.660296</td>\n",
       "    </tr>\n",
       "    <tr>\n",
       "      <th>1</th>\n",
       "      <td>4.430729</td>\n",
       "      <td>-7.639486</td>\n",
       "      <td>0.809137</td>\n",
       "      <td>-0.124795</td>\n",
       "      <td>975.523256</td>\n",
       "      <td>-0.960813</td>\n",
       "      <td>2.228139</td>\n",
       "      <td>-2.650296</td>\n",
       "    </tr>\n",
       "    <tr>\n",
       "      <th>2</th>\n",
       "      <td>3.386729</td>\n",
       "      <td>23.360514</td>\n",
       "      <td>2.859136</td>\n",
       "      <td>-0.023229</td>\n",
       "      <td>-929.476744</td>\n",
       "      <td>-0.268395</td>\n",
       "      <td>2.218139</td>\n",
       "      <td>-2.670296</td>\n",
       "    </tr>\n",
       "    <tr>\n",
       "      <th>3</th>\n",
       "      <td>1.772429</td>\n",
       "      <td>23.360514</td>\n",
       "      <td>0.388352</td>\n",
       "      <td>-0.023616</td>\n",
       "      <td>-867.476744</td>\n",
       "      <td>-0.522710</td>\n",
       "      <td>2.218139</td>\n",
       "      <td>-2.680296</td>\n",
       "    </tr>\n",
       "    <tr>\n",
       "      <th>4</th>\n",
       "      <td>-0.024471</td>\n",
       "      <td>23.360514</td>\n",
       "      <td>0.852854</td>\n",
       "      <td>-0.015594</td>\n",
       "      <td>-860.476744</td>\n",
       "      <td>-0.889188</td>\n",
       "      <td>2.218139</td>\n",
       "      <td>-2.680296</td>\n",
       "    </tr>\n",
       "    <tr>\n",
       "      <th>...</th>\n",
       "      <td>...</td>\n",
       "      <td>...</td>\n",
       "      <td>...</td>\n",
       "      <td>...</td>\n",
       "      <td>...</td>\n",
       "      <td>...</td>\n",
       "      <td>...</td>\n",
       "      <td>...</td>\n",
       "    </tr>\n",
       "    <tr>\n",
       "      <th>20635</th>\n",
       "      <td>-2.310371</td>\n",
       "      <td>-3.639486</td>\n",
       "      <td>-0.383545</td>\n",
       "      <td>0.036658</td>\n",
       "      <td>-580.476744</td>\n",
       "      <td>-0.510049</td>\n",
       "      <td>3.848139</td>\n",
       "      <td>-1.520296</td>\n",
       "    </tr>\n",
       "    <tr>\n",
       "      <th>20636</th>\n",
       "      <td>-1.313871</td>\n",
       "      <td>-10.639486</td>\n",
       "      <td>0.685035</td>\n",
       "      <td>0.219114</td>\n",
       "      <td>-1069.476744</td>\n",
       "      <td>0.052152</td>\n",
       "      <td>3.858139</td>\n",
       "      <td>-1.640296</td>\n",
       "    </tr>\n",
       "    <tr>\n",
       "      <th>20637</th>\n",
       "      <td>-2.170671</td>\n",
       "      <td>-11.639486</td>\n",
       "      <td>-0.223457</td>\n",
       "      <td>0.023417</td>\n",
       "      <td>-418.476744</td>\n",
       "      <td>-0.745020</td>\n",
       "      <td>3.798139</td>\n",
       "      <td>-1.650296</td>\n",
       "    </tr>\n",
       "    <tr>\n",
       "      <th>20638</th>\n",
       "      <td>-2.003471</td>\n",
       "      <td>-10.639486</td>\n",
       "      <td>-0.099487</td>\n",
       "      <td>0.075245</td>\n",
       "      <td>-684.476744</td>\n",
       "      <td>-0.947446</td>\n",
       "      <td>3.798139</td>\n",
       "      <td>-1.750296</td>\n",
       "    </tr>\n",
       "    <tr>\n",
       "      <th>20639</th>\n",
       "      <td>-1.482071</td>\n",
       "      <td>-12.639486</td>\n",
       "      <td>-0.174283</td>\n",
       "      <td>0.065589</td>\n",
       "      <td>-38.476744</td>\n",
       "      <td>-0.453674</td>\n",
       "      <td>3.738139</td>\n",
       "      <td>-1.670296</td>\n",
       "    </tr>\n",
       "  </tbody>\n",
       "</table>\n",
       "<p>20640 rows × 8 columns</p>\n",
       "</div>"
      ],
      "text/plain": [
       "         MedInc   HouseAge  AveRooms  AveBedrms   Population  AveOccup  \\\n",
       "0      4.454529  12.360514  1.555127  -0.072866 -1103.476744 -0.515100   \n",
       "1      4.430729  -7.639486  0.809137  -0.124795   975.523256 -0.960813   \n",
       "2      3.386729  23.360514  2.859136  -0.023229  -929.476744 -0.268395   \n",
       "3      1.772429  23.360514  0.388352  -0.023616  -867.476744 -0.522710   \n",
       "4     -0.024471  23.360514  0.852854  -0.015594  -860.476744 -0.889188   \n",
       "...         ...        ...       ...        ...          ...       ...   \n",
       "20635 -2.310371  -3.639486 -0.383545   0.036658  -580.476744 -0.510049   \n",
       "20636 -1.313871 -10.639486  0.685035   0.219114 -1069.476744  0.052152   \n",
       "20637 -2.170671 -11.639486 -0.223457   0.023417  -418.476744 -0.745020   \n",
       "20638 -2.003471 -10.639486 -0.099487   0.075245  -684.476744 -0.947446   \n",
       "20639 -1.482071 -12.639486 -0.174283   0.065589   -38.476744 -0.453674   \n",
       "\n",
       "       Latitude  Longitude  \n",
       "0      2.248139  -2.660296  \n",
       "1      2.228139  -2.650296  \n",
       "2      2.218139  -2.670296  \n",
       "3      2.218139  -2.680296  \n",
       "4      2.218139  -2.680296  \n",
       "...         ...        ...  \n",
       "20635  3.848139  -1.520296  \n",
       "20636  3.858139  -1.640296  \n",
       "20637  3.798139  -1.650296  \n",
       "20638  3.798139  -1.750296  \n",
       "20639  3.738139  -1.670296  \n",
       "\n",
       "[20640 rows x 8 columns]"
      ]
     },
     "execution_count": 169,
     "metadata": {},
     "output_type": "execute_result"
    }
   ],
   "source": [
    "X_mean = mean_model.fit_transform(df_X)\n",
    "X_mean"
   ]
  },
  {
   "cell_type": "markdown",
   "metadata": {},
   "source": [
    "# Adstockの変換class\n",
    "\n",
    "## 定式: y_t_ = x_t + alpha * y_t-1"
   ]
  },
  {
   "cell_type": "code",
   "execution_count": 170,
   "metadata": {},
   "outputs": [],
   "source": [
    "x = pd.DataFrame([1,0,0,0,0])\n",
    "y = pd.DataFrame(np.zeros_like(x))"
   ]
  },
  {
   "cell_type": "code",
   "execution_count": 171,
   "metadata": {},
   "outputs": [],
   "source": [
    "x = [1.,0.,0.,0.,0]\n"
   ]
  },
  {
   "cell_type": "code",
   "execution_count": 172,
   "metadata": {},
   "outputs": [],
   "source": [
    "def adstock(x:float, alpha:float):\n",
    "    x_decay = np.zeros_like(x)\n",
    "    x_decay[0] = x[0]\n",
    "    for i in range(1,len(x)):\n",
    "        x_decay[i] = x[i] + x_decay[i-1]*alpha\n",
    "          \n",
    "    print(x_decay)\n",
    "    return x_decay\n",
    "    "
   ]
  },
  {
   "cell_type": "code",
   "execution_count": 173,
   "metadata": {},
   "outputs": [
    {
     "name": "stdout",
     "output_type": "stream",
     "text": [
      "[1.     1.5    0.75   0.375  0.1875]\n"
     ]
    }
   ],
   "source": [
    "x = [1.0,1.,0,0,0]\n",
    "y = adstock(x,0.5)"
   ]
  },
  {
   "cell_type": "code",
   "execution_count": 174,
   "metadata": {},
   "outputs": [
    {
     "data": {
      "image/png": "[encoded data removed]",
      "text/plain": [
       "<Figure size 640x480 with 1 Axes>"
      ]
     },
     "metadata": {},
     "output_type": "display_data"
    }
   ],
   "source": [
    "import japanize_matplotlib\n",
    "plt.bar(range(len(x)),y)\n",
    "plt.title(\"広告残存効果\")\n",
    "plt.show()"
   ]
  },
  {
   "cell_type": "code",
   "execution_count": 177,
   "metadata": {},
   "outputs": [],
   "source": [
    "class AdstockGeometric(BaseEstimator,TransformerMixin):\n",
    "    \n",
    "    def __init__(self, alpha=0.5):\n",
    "        super().__init__()\n",
    "        self.alpha = alpha\n",
    "    \n",
    "    def fit(self, x, y=None):\n",
    "        return self\n",
    "    \n",
    "    def transform(self, x):\n",
    "        x_decay = np.zeros_like(x)\n",
    "        x_decay[0] = x[0]\n",
    "        for i in range(1,len(x)):\n",
    "            x_decay[i] = x[i] + x_decay[i-1] * self.alpha\n",
    "\n",
    "        return x_decay\n",
    "    "
   ]
  },
  {
   "cell_type": "code",
   "execution_count": null,
   "metadata": {},
   "outputs": [],
   "source": [
    "ads = AdstockGeometric(0.4)\n",
    "x = [1.0,0,0,0,0]\n",
    "ads.fit(x)"
   ]
  },
  {
   "cell_type": "code",
   "execution_count": null,
   "metadata": {},
   "outputs": [],
   "source": [
    "ads.transform(x)"
   ]
  },
  {
   "cell_type": "code",
   "execution_count": 189,
   "metadata": {},
   "outputs": [
    {
     "data": {
      "text/plain": [
       "<BarContainer object of 5 artists>"
      ]
     },
     "execution_count": 189,
     "metadata": {},
     "output_type": "execute_result"
    },
    {
     "data": {
      "image/png": "[encoded data removed]",
      "text/plain": [
       "<Figure size 640x480 with 1 Axes>"
      ]
     },
     "metadata": {},
     "output_type": "display_data"
    }
   ],
   "source": [
    "plt.bar(range(len(x)),y)"
   ]
  },
  {
   "cell_type": "code",
   "execution_count": 193,
   "metadata": {},
   "outputs": [
    {
     "data": {
      "text/plain": [
       "array([1.    , 0.4   , 0.16  , 0.064 , 0.0256])"
      ]
     },
     "execution_count": 193,
     "metadata": {},
     "output_type": "execute_result"
    }
   ],
   "source": [
    "AdstockGeometric(0.4).fit_transform(x)"
   ]
  },
  {
   "cell_type": "code",
   "execution_count": 194,
   "metadata": {},
   "outputs": [],
   "source": [
    "mmm_data = pd.read_csv(\"data_raw_Robyn.csv\")"
   ]
  },
  {
   "cell_type": "code",
   "execution_count": 197,
   "metadata": {},
   "outputs": [
    {
     "data": {
      "text/html": [
       "<div>\n",
       "<style scoped>\n",
       "    .dataframe tbody tr th:only-of-type {\n",
       "        vertical-align: middle;\n",
       "    }\n",
       "\n",
       "    .dataframe tbody tr th {\n",
       "        vertical-align: top;\n",
       "    }\n",
       "\n",
       "    .dataframe thead th {\n",
       "        text-align: right;\n",
       "    }\n",
       "</style>\n",
       "<table border=\"1\" class=\"dataframe\">\n",
       "  <thead>\n",
       "    <tr style=\"text-align: right;\">\n",
       "      <th></th>\n",
       "      <th>DATE</th>\n",
       "      <th>revenue</th>\n",
       "      <th>tv_S</th>\n",
       "      <th>ooh_S</th>\n",
       "      <th>print_S</th>\n",
       "      <th>facebook_I</th>\n",
       "      <th>search_clicks_P</th>\n",
       "      <th>search_S</th>\n",
       "      <th>competitor_sales_B</th>\n",
       "      <th>facebook_S</th>\n",
       "      <th>events</th>\n",
       "      <th>newsletter</th>\n",
       "    </tr>\n",
       "  </thead>\n",
       "  <tbody>\n",
       "    <tr>\n",
       "      <th>0</th>\n",
       "      <td>2015-11-23</td>\n",
       "      <td>2.754372e+06</td>\n",
       "      <td>167687.6</td>\n",
       "      <td>0</td>\n",
       "      <td>95463.666667</td>\n",
       "      <td>7.290385e+07</td>\n",
       "      <td>0.000000</td>\n",
       "      <td>0</td>\n",
       "      <td>8125009</td>\n",
       "      <td>228213.987444</td>\n",
       "      <td>na</td>\n",
       "      <td>19401.653846</td>\n",
       "    </tr>\n",
       "    <tr>\n",
       "      <th>1</th>\n",
       "      <td>2015-11-30</td>\n",
       "      <td>2.584277e+06</td>\n",
       "      <td>214600.9</td>\n",
       "      <td>0</td>\n",
       "      <td>0.000000</td>\n",
       "      <td>1.658110e+07</td>\n",
       "      <td>29511.715457</td>\n",
       "      <td>31000</td>\n",
       "      <td>7901549</td>\n",
       "      <td>34258.573511</td>\n",
       "      <td>na</td>\n",
       "      <td>14791.000000</td>\n",
       "    </tr>\n",
       "    <tr>\n",
       "      <th>2</th>\n",
       "      <td>2015-12-07</td>\n",
       "      <td>2.547387e+06</td>\n",
       "      <td>0.0</td>\n",
       "      <td>248022</td>\n",
       "      <td>3404.000000</td>\n",
       "      <td>4.995477e+07</td>\n",
       "      <td>36132.358958</td>\n",
       "      <td>28400</td>\n",
       "      <td>8300197</td>\n",
       "      <td>127691.261335</td>\n",
       "      <td>na</td>\n",
       "      <td>14544.000000</td>\n",
       "    </tr>\n",
       "    <tr>\n",
       "      <th>3</th>\n",
       "      <td>2015-12-14</td>\n",
       "      <td>2.875220e+06</td>\n",
       "      <td>625877.3</td>\n",
       "      <td>0</td>\n",
       "      <td>132600.000000</td>\n",
       "      <td>3.164930e+07</td>\n",
       "      <td>36804.210958</td>\n",
       "      <td>31900</td>\n",
       "      <td>8122883</td>\n",
       "      <td>84014.720306</td>\n",
       "      <td>na</td>\n",
       "      <td>2800.000000</td>\n",
       "    </tr>\n",
       "    <tr>\n",
       "      <th>4</th>\n",
       "      <td>2015-12-21</td>\n",
       "      <td>2.215953e+06</td>\n",
       "      <td>0.0</td>\n",
       "      <td>520005</td>\n",
       "      <td>0.000000</td>\n",
       "      <td>8.802269e+06</td>\n",
       "      <td>28401.744069</td>\n",
       "      <td>27100</td>\n",
       "      <td>7105985</td>\n",
       "      <td>20687.478156</td>\n",
       "      <td>na</td>\n",
       "      <td>15478.000000</td>\n",
       "    </tr>\n",
       "  </tbody>\n",
       "</table>\n",
       "</div>"
      ],
      "text/plain": [
       "         DATE       revenue      tv_S   ooh_S        print_S    facebook_I  \\\n",
       "0  2015-11-23  2.754372e+06  167687.6       0   95463.666667  7.290385e+07   \n",
       "1  2015-11-30  2.584277e+06  214600.9       0       0.000000  1.658110e+07   \n",
       "2  2015-12-07  2.547387e+06       0.0  248022    3404.000000  4.995477e+07   \n",
       "3  2015-12-14  2.875220e+06  625877.3       0  132600.000000  3.164930e+07   \n",
       "4  2015-12-21  2.215953e+06       0.0  520005       0.000000  8.802269e+06   \n",
       "\n",
       "   search_clicks_P  search_S  competitor_sales_B     facebook_S events  \\\n",
       "0         0.000000         0             8125009  228213.987444     na   \n",
       "1     29511.715457     31000             7901549   34258.573511     na   \n",
       "2     36132.358958     28400             8300197  127691.261335     na   \n",
       "3     36804.210958     31900             8122883   84014.720306     na   \n",
       "4     28401.744069     27100             7105985   20687.478156     na   \n",
       "\n",
       "     newsletter  \n",
       "0  19401.653846  \n",
       "1  14791.000000  \n",
       "2  14544.000000  \n",
       "3   2800.000000  \n",
       "4  15478.000000  "
      ]
     },
     "execution_count": 197,
     "metadata": {},
     "output_type": "execute_result"
    }
   ],
   "source": [
    "mmm_data.head()"
   ]
  },
  {
   "cell_type": "code",
   "execution_count": null,
   "metadata": {},
   "outputs": [],
   "source": [
    "spend_cols = [\"tv_S\",\"ooh_S\",\"print_S\"]\n",
    "\n",
    "for col in spend_cols:\n",
    "    print(\"============\")\n",
    "    print(col)\n",
    "    print(len(AdstockGeometric(alpha=0.5).fit_transform(mmm_data[col])))\n",
    "    print(AdstockGeometric(alpha=0.5).fit_transform(mmm_data[col]))\n"
   ]
  },
  {
   "cell_type": "code",
   "execution_count": null,
   "metadata": {},
   "outputs": [],
   "source": []
  }
 ],
 "metadata": {
  "kernelspec": {
   "display_name": "base",
   "language": "python",
   "name": "python3"
  },
  "language_info": {
   "codemirror_mode": {
    "name": "ipython",
    "version": 3
   },
   "file_extension": ".py",
   "mimetype": "text/x-python",
   "name": "python",
   "nbconvert_exporter": "python",
   "pygments_lexer": "ipython3",
   "version": "3.10.9"
  }
 },
 "nbformat": 4,
 "nbformat_minor": 2
}
