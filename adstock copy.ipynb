{
 "cells": [
  {
   "cell_type": "code",
   "execution_count": 1,
   "metadata": {},
   "outputs": [],
   "source": [
    "import pandas as pd\n",
    "import numpy as np\n",
    "from sklearn.datasets import fetch_california_housing\n",
    "from sklearn.model_selection import train_test_split\n",
    "import matplotlib.pyplot as plt\n",
    "%matplotlib inline\n",
    "\n",
    "# 識別子の作成\n",
    "from sklearn.base import BaseEstimator, TransformerMixin"
   ]
  },
  {
   "cell_type": "code",
   "execution_count": 2,
   "metadata": {},
   "outputs": [],
   "source": [
    "# 平均を引くClassを作成\n",
    "class SimpleConverter(BaseEstimator, TransformerMixin):\n",
    "    def __init__(self):\n",
    "        self.x_mean = None\n",
    "    \n",
    "    def fit(self, X, y=None):\n",
    "        self.x_mean = X.mean(axis=0)\n",
    "        self.transformed = pd.DataFrame(np.zeros_like(X))\n",
    "        return self\n",
    "    \n",
    "    def transform(self,X):\n",
    "        self.transformed.columns = X.columns\n",
    "        for col in X.columns:\n",
    "            for row in range(X.shape[0]):\n",
    "                self.transformed.loc[row, col] = X.loc[row, col]-self.x_mean[col]\n",
    "        return self.transformed"
   ]
  },
  {
   "cell_type": "code",
   "execution_count": 30,
   "metadata": {},
   "outputs": [
    {
     "name": "stdout",
     "output_type": "stream",
     "text": [
      "   MedInc  HouseAge  AveRooms  AveBedrms  Population  AveOccup  Latitude  \\\n",
      "0  8.3252      41.0  6.984127   1.023810       322.0  2.555556     37.88   \n",
      "1  8.3014      21.0  6.238137   0.971880      2401.0  2.109842     37.86   \n",
      "2  7.2574      52.0  8.288136   1.073446       496.0  2.802260     37.85   \n",
      "3  5.6431      52.0  5.817352   1.073059       558.0  2.547945     37.85   \n",
      "4  3.8462      52.0  6.281853   1.081081       565.0  2.181467     37.85   \n",
      "\n",
      "   Longitude  \n",
      "0    -122.23  \n",
      "1    -122.22  \n",
      "2    -122.24  \n",
      "3    -122.25  \n",
      "4    -122.25  \n",
      "0    4.526\n",
      "1    3.585\n",
      "2    3.521\n",
      "3    3.413\n",
      "4    3.422\n",
      "dtype: float64\n"
     ]
    }
   ],
   "source": [
    "# california_housingを読み込み\n",
    "california_housing = fetch_california_housing()\n",
    "df_X = pd.DataFrame(california_housing.data, columns=california_housing.feature_names)\n",
    "df_y = pd.Series(california_housing.target)\n",
    "\n",
    "print(df_X.head())\n",
    "print(df_y.head())"
   ]
  },
  {
   "cell_type": "code",
   "execution_count": 4,
   "metadata": {},
   "outputs": [
    {
     "data": {
      "text/plain": [
       "MedInc           3.870671\n",
       "HouseAge        28.639486\n",
       "AveRooms         5.429000\n",
       "AveBedrms        1.096675\n",
       "Population    1425.476744\n",
       "AveOccup         3.070655\n",
       "Latitude        35.631861\n",
       "Longitude     -119.569704\n",
       "dtype: float64"
      ]
     },
     "execution_count": 4,
     "metadata": {},
     "output_type": "execute_result"
    }
   ],
   "source": [
    "df_X.mean(axis=0)"
   ]
  },
  {
   "cell_type": "code",
   "execution_count": 6,
   "metadata": {},
   "outputs": [
    {
     "name": "stdout",
     "output_type": "stream",
     "text": [
      "         MedInc   HouseAge  AveRooms  AveBedrms   Population  AveOccup  \\\n",
      "0      4.454529  12.360514  1.555127  -0.072866 -1103.476744 -0.515100   \n",
      "1      4.430729  -7.639486  0.809137  -0.124795   975.523256 -0.960813   \n",
      "2      3.386729  23.360514  2.859136  -0.023229  -929.476744 -0.268395   \n",
      "3      1.772429  23.360514  0.388352  -0.023616  -867.476744 -0.522710   \n",
      "4     -0.024471  23.360514  0.852854  -0.015594  -860.476744 -0.889188   \n",
      "...         ...        ...       ...        ...          ...       ...   \n",
      "20635 -2.310371  -3.639486 -0.383545   0.036658  -580.476744 -0.510049   \n",
      "20636 -1.313871 -10.639486  0.685035   0.219114 -1069.476744  0.052152   \n",
      "20637 -2.170671 -11.639486 -0.223457   0.023417  -418.476744 -0.745020   \n",
      "20638 -2.003471 -10.639486 -0.099487   0.075245  -684.476744 -0.947446   \n",
      "20639 -1.482071 -12.639486 -0.174283   0.065589   -38.476744 -0.453674   \n",
      "\n",
      "       Latitude  Longitude  \n",
      "0      2.248139  -2.660296  \n",
      "1      2.228139  -2.650296  \n",
      "2      2.218139  -2.670296  \n",
      "3      2.218139  -2.680296  \n",
      "4      2.218139  -2.680296  \n",
      "...         ...        ...  \n",
      "20635  3.848139  -1.520296  \n",
      "20636  3.858139  -1.640296  \n",
      "20637  3.798139  -1.650296  \n",
      "20638  3.798139  -1.750296  \n",
      "20639  3.738139  -1.670296  \n",
      "\n",
      "[20640 rows x 8 columns]\n"
     ]
    }
   ],
   "source": [
    "# Classをインスタンス化\n",
    "mean_model = SimpleConverter()\n",
    "\n",
    "# Classを学習して変換\n",
    "mean_model.fit(df_X)\n",
    "X_mean = mean_model.transform(df_X)\n",
    "print(X_mean)"
   ]
  },
  {
   "cell_type": "code",
   "execution_count": 7,
   "metadata": {},
   "outputs": [
    {
     "data": {
      "text/html": [
       "<div>\n",
       "<style scoped>\n",
       "    .dataframe tbody tr th:only-of-type {\n",
       "        vertical-align: middle;\n",
       "    }\n",
       "\n",
       "    .dataframe tbody tr th {\n",
       "        vertical-align: top;\n",
       "    }\n",
       "\n",
       "    .dataframe thead th {\n",
       "        text-align: right;\n",
       "    }\n",
       "</style>\n",
       "<table border=\"1\" class=\"dataframe\">\n",
       "  <thead>\n",
       "    <tr style=\"text-align: right;\">\n",
       "      <th></th>\n",
       "      <th>MedInc</th>\n",
       "      <th>HouseAge</th>\n",
       "      <th>AveRooms</th>\n",
       "      <th>AveBedrms</th>\n",
       "      <th>Population</th>\n",
       "      <th>AveOccup</th>\n",
       "      <th>Latitude</th>\n",
       "      <th>Longitude</th>\n",
       "    </tr>\n",
       "  </thead>\n",
       "  <tbody>\n",
       "    <tr>\n",
       "      <th>0</th>\n",
       "      <td>4.454529</td>\n",
       "      <td>12.360514</td>\n",
       "      <td>1.555127</td>\n",
       "      <td>-0.072866</td>\n",
       "      <td>-1103.476744</td>\n",
       "      <td>-0.515100</td>\n",
       "      <td>2.248139</td>\n",
       "      <td>-2.660296</td>\n",
       "    </tr>\n",
       "    <tr>\n",
       "      <th>1</th>\n",
       "      <td>4.430729</td>\n",
       "      <td>-7.639486</td>\n",
       "      <td>0.809137</td>\n",
       "      <td>-0.124795</td>\n",
       "      <td>975.523256</td>\n",
       "      <td>-0.960813</td>\n",
       "      <td>2.228139</td>\n",
       "      <td>-2.650296</td>\n",
       "    </tr>\n",
       "    <tr>\n",
       "      <th>2</th>\n",
       "      <td>3.386729</td>\n",
       "      <td>23.360514</td>\n",
       "      <td>2.859136</td>\n",
       "      <td>-0.023229</td>\n",
       "      <td>-929.476744</td>\n",
       "      <td>-0.268395</td>\n",
       "      <td>2.218139</td>\n",
       "      <td>-2.670296</td>\n",
       "    </tr>\n",
       "    <tr>\n",
       "      <th>3</th>\n",
       "      <td>1.772429</td>\n",
       "      <td>23.360514</td>\n",
       "      <td>0.388352</td>\n",
       "      <td>-0.023616</td>\n",
       "      <td>-867.476744</td>\n",
       "      <td>-0.522710</td>\n",
       "      <td>2.218139</td>\n",
       "      <td>-2.680296</td>\n",
       "    </tr>\n",
       "    <tr>\n",
       "      <th>4</th>\n",
       "      <td>-0.024471</td>\n",
       "      <td>23.360514</td>\n",
       "      <td>0.852854</td>\n",
       "      <td>-0.015594</td>\n",
       "      <td>-860.476744</td>\n",
       "      <td>-0.889188</td>\n",
       "      <td>2.218139</td>\n",
       "      <td>-2.680296</td>\n",
       "    </tr>\n",
       "    <tr>\n",
       "      <th>...</th>\n",
       "      <td>...</td>\n",
       "      <td>...</td>\n",
       "      <td>...</td>\n",
       "      <td>...</td>\n",
       "      <td>...</td>\n",
       "      <td>...</td>\n",
       "      <td>...</td>\n",
       "      <td>...</td>\n",
       "    </tr>\n",
       "    <tr>\n",
       "      <th>20635</th>\n",
       "      <td>-2.310371</td>\n",
       "      <td>-3.639486</td>\n",
       "      <td>-0.383545</td>\n",
       "      <td>0.036658</td>\n",
       "      <td>-580.476744</td>\n",
       "      <td>-0.510049</td>\n",
       "      <td>3.848139</td>\n",
       "      <td>-1.520296</td>\n",
       "    </tr>\n",
       "    <tr>\n",
       "      <th>20636</th>\n",
       "      <td>-1.313871</td>\n",
       "      <td>-10.639486</td>\n",
       "      <td>0.685035</td>\n",
       "      <td>0.219114</td>\n",
       "      <td>-1069.476744</td>\n",
       "      <td>0.052152</td>\n",
       "      <td>3.858139</td>\n",
       "      <td>-1.640296</td>\n",
       "    </tr>\n",
       "    <tr>\n",
       "      <th>20637</th>\n",
       "      <td>-2.170671</td>\n",
       "      <td>-11.639486</td>\n",
       "      <td>-0.223457</td>\n",
       "      <td>0.023417</td>\n",
       "      <td>-418.476744</td>\n",
       "      <td>-0.745020</td>\n",
       "      <td>3.798139</td>\n",
       "      <td>-1.650296</td>\n",
       "    </tr>\n",
       "    <tr>\n",
       "      <th>20638</th>\n",
       "      <td>-2.003471</td>\n",
       "      <td>-10.639486</td>\n",
       "      <td>-0.099487</td>\n",
       "      <td>0.075245</td>\n",
       "      <td>-684.476744</td>\n",
       "      <td>-0.947446</td>\n",
       "      <td>3.798139</td>\n",
       "      <td>-1.750296</td>\n",
       "    </tr>\n",
       "    <tr>\n",
       "      <th>20639</th>\n",
       "      <td>-1.482071</td>\n",
       "      <td>-12.639486</td>\n",
       "      <td>-0.174283</td>\n",
       "      <td>0.065589</td>\n",
       "      <td>-38.476744</td>\n",
       "      <td>-0.453674</td>\n",
       "      <td>3.738139</td>\n",
       "      <td>-1.670296</td>\n",
       "    </tr>\n",
       "  </tbody>\n",
       "</table>\n",
       "<p>20640 rows × 8 columns</p>\n",
       "</div>"
      ],
      "text/plain": [
       "         MedInc   HouseAge  AveRooms  AveBedrms   Population  AveOccup  \\\n",
       "0      4.454529  12.360514  1.555127  -0.072866 -1103.476744 -0.515100   \n",
       "1      4.430729  -7.639486  0.809137  -0.124795   975.523256 -0.960813   \n",
       "2      3.386729  23.360514  2.859136  -0.023229  -929.476744 -0.268395   \n",
       "3      1.772429  23.360514  0.388352  -0.023616  -867.476744 -0.522710   \n",
       "4     -0.024471  23.360514  0.852854  -0.015594  -860.476744 -0.889188   \n",
       "...         ...        ...       ...        ...          ...       ...   \n",
       "20635 -2.310371  -3.639486 -0.383545   0.036658  -580.476744 -0.510049   \n",
       "20636 -1.313871 -10.639486  0.685035   0.219114 -1069.476744  0.052152   \n",
       "20637 -2.170671 -11.639486 -0.223457   0.023417  -418.476744 -0.745020   \n",
       "20638 -2.003471 -10.639486 -0.099487   0.075245  -684.476744 -0.947446   \n",
       "20639 -1.482071 -12.639486 -0.174283   0.065589   -38.476744 -0.453674   \n",
       "\n",
       "       Latitude  Longitude  \n",
       "0      2.248139  -2.660296  \n",
       "1      2.228139  -2.650296  \n",
       "2      2.218139  -2.670296  \n",
       "3      2.218139  -2.680296  \n",
       "4      2.218139  -2.680296  \n",
       "...         ...        ...  \n",
       "20635  3.848139  -1.520296  \n",
       "20636  3.858139  -1.640296  \n",
       "20637  3.798139  -1.650296  \n",
       "20638  3.798139  -1.750296  \n",
       "20639  3.738139  -1.670296  \n",
       "\n",
       "[20640 rows x 8 columns]"
      ]
     },
     "execution_count": 7,
     "metadata": {},
     "output_type": "execute_result"
    }
   ],
   "source": [
    "X_mean = mean_model.fit_transform(df_X)\n",
    "X_mean"
   ]
  },
  {
   "cell_type": "markdown",
   "metadata": {},
   "source": [
    "# Adstockの変換class\n",
    "\n",
    "## 定式: y_t_ = x_t + alpha * y_t-1"
   ]
  },
  {
   "cell_type": "code",
   "execution_count": null,
   "metadata": {},
   "outputs": [],
   "source": [
    "x = pd.DataFrame([1,0,0,0,0])"
   ]
  },
  {
   "cell_type": "code",
   "execution_count": 18,
   "metadata": {},
   "outputs": [
    {
     "data": {
      "text/plain": [
       "MedInc           3.870671\n",
       "HouseAge        28.639486\n",
       "AveRooms         5.429000\n",
       "AveBedrms        1.096675\n",
       "Population    1425.476744\n",
       "AveOccup         3.070655\n",
       "Latitude        35.631861\n",
       "Longitude     -119.569704\n",
       "dtype: float64"
      ]
     },
     "execution_count": 18,
     "metadata": {},
     "output_type": "execute_result"
    }
   ],
   "source": [
    "def adstock(x, alpha=0.5):\n",
    "    "
   ]
  }
 ],
 "metadata": {
  "kernelspec": {
   "display_name": "base",
   "language": "python",
   "name": "python3"
  },
  "language_info": {
   "codemirror_mode": {
    "name": "ipython",
    "version": 3
   },
   "file_extension": ".py",
   "mimetype": "text/x-python",
   "name": "python",
   "nbconvert_exporter": "python",
   "pygments_lexer": "ipython3",
   "version": "3.10.9"
  }
 },
 "nbformat": 4,
 "nbformat_minor": 2
}
