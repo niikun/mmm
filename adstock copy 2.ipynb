{
 "cells": [
  {
   "cell_type": "code",
   "execution_count": 167,
   "metadata": {},
   "outputs": [],
   "source": [
    "import pandas as pd\n",
    "import numpy as np\n",
    "from sklearn.datasets import fetch_california_housing\n",
    "from sklearn.model_selection import train_test_split\n",
    "import matplotlib.pyplot as plt\n",
    "%matplotlib inline\n",
    "\n",
    "# 識別子の作成\n",
    "from sklearn.base import BaseEstimator, TransformerMixin"
   ]
  },
  {
   "cell_type": "code",
   "execution_count": 168,
   "metadata": {},
   "outputs": [
    {
     "name": "stdout",
     "output_type": "stream",
     "text": [
      "         MedInc   HouseAge  AveRooms  AveBedrms   Population  AveOccup  \\\n",
      "0      4.454529  12.360514  1.555127  -0.072866 -1103.476744 -0.515100   \n",
      "1      4.430729  -7.639486  0.809137  -0.124795   975.523256 -0.960813   \n",
      "2      3.386729  23.360514  2.859136  -0.023229  -929.476744 -0.268395   \n",
      "3      1.772429  23.360514  0.388352  -0.023616  -867.476744 -0.522710   \n",
      "4     -0.024471  23.360514  0.852854  -0.015594  -860.476744 -0.889188   \n",
      "...         ...        ...       ...        ...          ...       ...   \n",
      "20635 -2.310371  -3.639486 -0.383545   0.036658  -580.476744 -0.510049   \n",
      "20636 -1.313871 -10.639486  0.685035   0.219114 -1069.476744  0.052152   \n",
      "20637 -2.170671 -11.639486 -0.223457   0.023417  -418.476744 -0.745020   \n",
      "20638 -2.003471 -10.639486 -0.099487   0.075245  -684.476744 -0.947446   \n",
      "20639 -1.482071 -12.639486 -0.174283   0.065589   -38.476744 -0.453674   \n",
      "\n",
      "       Latitude  Longitude  \n",
      "0      2.248139  -2.660296  \n",
      "1      2.228139  -2.650296  \n",
      "2      2.218139  -2.670296  \n",
      "3      2.218139  -2.680296  \n",
      "4      2.218139  -2.680296  \n",
      "...         ...        ...  \n",
      "20635  3.848139  -1.520296  \n",
      "20636  3.858139  -1.640296  \n",
      "20637  3.798139  -1.650296  \n",
      "20638  3.798139  -1.750296  \n",
      "20639  3.738139  -1.670296  \n",
      "\n",
      "[20640 rows x 8 columns]\n"
     ]
    }
   ],
   "source": [
    "# Classをインスタンス化\n",
    "mean_model = SimpleConverter()\n",
    "\n",
    "# Classを学習して変換\n",
    "mean_model.fit(df_X)\n",
    "X_mean = mean_model.transform(df_X)\n",
    "print(X_mean)"
   ]
  },
  {
   "cell_type": "code",
   "execution_count": 169,
   "metadata": {},
   "outputs": [
    {
     "data": {
      "text/html": [
       "<div>\n",
       "<style scoped>\n",
       "    .dataframe tbody tr th:only-of-type {\n",
       "        vertical-align: middle;\n",
       "    }\n",
       "\n",
       "    .dataframe tbody tr th {\n",
       "        vertical-align: top;\n",
       "    }\n",
       "\n",
       "    .dataframe thead th {\n",
       "        text-align: right;\n",
       "    }\n",
       "</style>\n",
       "<table border=\"1\" class=\"dataframe\">\n",
       "  <thead>\n",
       "    <tr style=\"text-align: right;\">\n",
       "      <th></th>\n",
       "      <th>MedInc</th>\n",
       "      <th>HouseAge</th>\n",
       "      <th>AveRooms</th>\n",
       "      <th>AveBedrms</th>\n",
       "      <th>Population</th>\n",
       "      <th>AveOccup</th>\n",
       "      <th>Latitude</th>\n",
       "      <th>Longitude</th>\n",
       "    </tr>\n",
       "  </thead>\n",
       "  <tbody>\n",
       "    <tr>\n",
       "      <th>0</th>\n",
       "      <td>4.454529</td>\n",
       "      <td>12.360514</td>\n",
       "      <td>1.555127</td>\n",
       "      <td>-0.072866</td>\n",
       "      <td>-1103.476744</td>\n",
       "      <td>-0.515100</td>\n",
       "      <td>2.248139</td>\n",
       "      <td>-2.660296</td>\n",
       "    </tr>\n",
       "    <tr>\n",
       "      <th>1</th>\n",
       "      <td>4.430729</td>\n",
       "      <td>-7.639486</td>\n",
       "      <td>0.809137</td>\n",
       "      <td>-0.124795</td>\n",
       "      <td>975.523256</td>\n",
       "      <td>-0.960813</td>\n",
       "      <td>2.228139</td>\n",
       "      <td>-2.650296</td>\n",
       "    </tr>\n",
       "    <tr>\n",
       "      <th>2</th>\n",
       "      <td>3.386729</td>\n",
       "      <td>23.360514</td>\n",
       "      <td>2.859136</td>\n",
       "      <td>-0.023229</td>\n",
       "      <td>-929.476744</td>\n",
       "      <td>-0.268395</td>\n",
       "      <td>2.218139</td>\n",
       "      <td>-2.670296</td>\n",
       "    </tr>\n",
       "    <tr>\n",
       "      <th>3</th>\n",
       "      <td>1.772429</td>\n",
       "      <td>23.360514</td>\n",
       "      <td>0.388352</td>\n",
       "      <td>-0.023616</td>\n",
       "      <td>-867.476744</td>\n",
       "      <td>-0.522710</td>\n",
       "      <td>2.218139</td>\n",
       "      <td>-2.680296</td>\n",
       "    </tr>\n",
       "    <tr>\n",
       "      <th>4</th>\n",
       "      <td>-0.024471</td>\n",
       "      <td>23.360514</td>\n",
       "      <td>0.852854</td>\n",
       "      <td>-0.015594</td>\n",
       "      <td>-860.476744</td>\n",
       "      <td>-0.889188</td>\n",
       "      <td>2.218139</td>\n",
       "      <td>-2.680296</td>\n",
       "    </tr>\n",
       "    <tr>\n",
       "      <th>...</th>\n",
       "      <td>...</td>\n",
       "      <td>...</td>\n",
       "      <td>...</td>\n",
       "      <td>...</td>\n",
       "      <td>...</td>\n",
       "      <td>...</td>\n",
       "      <td>...</td>\n",
       "      <td>...</td>\n",
       "    </tr>\n",
       "    <tr>\n",
       "      <th>20635</th>\n",
       "      <td>-2.310371</td>\n",
       "      <td>-3.639486</td>\n",
       "      <td>-0.383545</td>\n",
       "      <td>0.036658</td>\n",
       "      <td>-580.476744</td>\n",
       "      <td>-0.510049</td>\n",
       "      <td>3.848139</td>\n",
       "      <td>-1.520296</td>\n",
       "    </tr>\n",
       "    <tr>\n",
       "      <th>20636</th>\n",
       "      <td>-1.313871</td>\n",
       "      <td>-10.639486</td>\n",
       "      <td>0.685035</td>\n",
       "      <td>0.219114</td>\n",
       "      <td>-1069.476744</td>\n",
       "      <td>0.052152</td>\n",
       "      <td>3.858139</td>\n",
       "      <td>-1.640296</td>\n",
       "    </tr>\n",
       "    <tr>\n",
       "      <th>20637</th>\n",
       "      <td>-2.170671</td>\n",
       "      <td>-11.639486</td>\n",
       "      <td>-0.223457</td>\n",
       "      <td>0.023417</td>\n",
       "      <td>-418.476744</td>\n",
       "      <td>-0.745020</td>\n",
       "      <td>3.798139</td>\n",
       "      <td>-1.650296</td>\n",
       "    </tr>\n",
       "    <tr>\n",
       "      <th>20638</th>\n",
       "      <td>-2.003471</td>\n",
       "      <td>-10.639486</td>\n",
       "      <td>-0.099487</td>\n",
       "      <td>0.075245</td>\n",
       "      <td>-684.476744</td>\n",
       "      <td>-0.947446</td>\n",
       "      <td>3.798139</td>\n",
       "      <td>-1.750296</td>\n",
       "    </tr>\n",
       "    <tr>\n",
       "      <th>20639</th>\n",
       "      <td>-1.482071</td>\n",
       "      <td>-12.639486</td>\n",
       "      <td>-0.174283</td>\n",
       "      <td>0.065589</td>\n",
       "      <td>-38.476744</td>\n",
       "      <td>-0.453674</td>\n",
       "      <td>3.738139</td>\n",
       "      <td>-1.670296</td>\n",
       "    </tr>\n",
       "  </tbody>\n",
       "</table>\n",
       "<p>20640 rows × 8 columns</p>\n",
       "</div>"
      ],
      "text/plain": [
       "         MedInc   HouseAge  AveRooms  AveBedrms   Population  AveOccup  \\\n",
       "0      4.454529  12.360514  1.555127  -0.072866 -1103.476744 -0.515100   \n",
       "1      4.430729  -7.639486  0.809137  -0.124795   975.523256 -0.960813   \n",
       "2      3.386729  23.360514  2.859136  -0.023229  -929.476744 -0.268395   \n",
       "3      1.772429  23.360514  0.388352  -0.023616  -867.476744 -0.522710   \n",
       "4     -0.024471  23.360514  0.852854  -0.015594  -860.476744 -0.889188   \n",
       "...         ...        ...       ...        ...          ...       ...   \n",
       "20635 -2.310371  -3.639486 -0.383545   0.036658  -580.476744 -0.510049   \n",
       "20636 -1.313871 -10.639486  0.685035   0.219114 -1069.476744  0.052152   \n",
       "20637 -2.170671 -11.639486 -0.223457   0.023417  -418.476744 -0.745020   \n",
       "20638 -2.003471 -10.639486 -0.099487   0.075245  -684.476744 -0.947446   \n",
       "20639 -1.482071 -12.639486 -0.174283   0.065589   -38.476744 -0.453674   \n",
       "\n",
       "       Latitude  Longitude  \n",
       "0      2.248139  -2.660296  \n",
       "1      2.228139  -2.650296  \n",
       "2      2.218139  -2.670296  \n",
       "3      2.218139  -2.680296  \n",
       "4      2.218139  -2.680296  \n",
       "...         ...        ...  \n",
       "20635  3.848139  -1.520296  \n",
       "20636  3.858139  -1.640296  \n",
       "20637  3.798139  -1.650296  \n",
       "20638  3.798139  -1.750296  \n",
       "20639  3.738139  -1.670296  \n",
       "\n",
       "[20640 rows x 8 columns]"
      ]
     },
     "execution_count": 169,
     "metadata": {},
     "output_type": "execute_result"
    }
   ],
   "source": [
    "X_mean = mean_model.fit_transform(df_X)\n",
    "X_mean"
   ]
  },
  {
   "cell_type": "markdown",
   "metadata": {},
   "source": [
    "# Adstockの変換class\n",
    "\n",
    "## 定式: y_t_ = x_t + alpha * y_t-1"
   ]
  },
  {
   "cell_type": "code",
   "execution_count": 170,
   "metadata": {},
   "outputs": [],
   "source": [
    "x = pd.DataFrame([1,0,0,0,0])\n",
    "y = pd.DataFrame(np.zeros_like(x))"
   ]
  },
  {
   "cell_type": "code",
   "execution_count": 171,
   "metadata": {},
   "outputs": [],
   "source": [
    "x = [1.,0.,0.,0.,0]\n"
   ]
  },
  {
   "cell_type": "code",
   "execution_count": 172,
   "metadata": {},
   "outputs": [],
   "source": [
    "def adstock(x:float, alpha:float):\n",
    "    x_decay = np.zeros_like(x)\n",
    "    x_decay[0] = x[0]\n",
    "    for i in range(1,len(x)):\n",
    "        x_decay[i] = x[i] + x_decay[i-1]*alpha\n",
    "          \n",
    "    print(x_decay)\n",
    "    return x_decay\n",
    "    "
   ]
  },
  {
   "cell_type": "code",
   "execution_count": 173,
   "metadata": {},
   "outputs": [
    {
     "name": "stdout",
     "output_type": "stream",
     "text": [
      "[1.     1.5    0.75   0.375  0.1875]\n"
     ]
    }
   ],
   "source": [
    "x = [1.0,1.,0,0,0]\n",
    "y = adstock(x,0.5)"
   ]
  },
  {
   "cell_type": "code",
   "execution_count": 174,
   "metadata": {},
   "outputs": [
    {
     "data": {
      "image/png": "[encoded data removed]",
      "text/plain": [
       "<Figure size 640x480 with 1 Axes>"
      ]
     },
     "metadata": {},
     "output_type": "display_data"
    }
   ],
   "source": [
    "import japanize_matplotlib\n",
    "plt.bar(range(len(x)),y)\n",
    "plt.title(\"広告残存効果\")\n",
    "plt.show()"
   ]
  },
  {
   "cell_type": "code",
   "execution_count": 177,
   "metadata": {},
   "outputs": [],
   "source": [
    "class AdstockGeometric(BaseEstimator,TransformerMixin):\n",
    "    \n",
    "    def __init__(self, alpha=0.5):\n",
    "        super().__init__()\n",
    "        self.alpha = alpha\n",
    "    \n",
    "    def fit(self, x, y=None):\n",
    "        return self\n",
    "    \n",
    "    def transform(self, x):\n",
    "        x_decay = np.zeros_like(x)\n",
    "        x_decay[0] = x[0]\n",
    "        for i in range(1,len(x)):\n",
    "            x_decay[i] = x[i] + x_decay[i-1]*self.alpha\n",
    "\n",
    "        return x_decay\n",
    "    "
   ]
  },
  {
   "cell_type": "code",
   "execution_count": 187,
   "metadata": {},
   "outputs": [
    {
     "data": {
      "text/html": [
       "<style>#sk-container-id-11 {color: black;background-color: white;}#sk-container-id-11 pre{padding: 0;}#sk-container-id-11 div.sk-toggleable {background-color: white;}#sk-container-id-11 label.sk-toggleable__label {cursor: pointer;display: block;width: 100%;margin-bottom: 0;padding: 0.3em;box-sizing: border-box;text-align: center;}#sk-container-id-11 label.sk-toggleable__label-arrow:before {content: \"▸\";float: left;margin-right: 0.25em;color: #696969;}#sk-container-id-11 label.sk-toggleable__label-arrow:hover:before {color: black;}#sk-container-id-11 div.sk-estimator:hover label.sk-toggleable__label-arrow:before {color: black;}#sk-container-id-11 div.sk-toggleable__content {max-height: 0;max-width: 0;overflow: hidden;text-align: left;background-color: #f0f8ff;}#sk-container-id-11 div.sk-toggleable__content pre {margin: 0.2em;color: black;border-radius: 0.25em;background-color: #f0f8ff;}#sk-container-id-11 input.sk-toggleable__control:checked~div.sk-toggleable__content {max-height: 200px;max-width: 100%;overflow: auto;}#sk-container-id-11 input.sk-toggleable__control:checked~label.sk-toggleable__label-arrow:before {content: \"▾\";}#sk-container-id-11 div.sk-estimator input.sk-toggleable__control:checked~label.sk-toggleable__label {background-color: #d4ebff;}#sk-container-id-11 div.sk-label input.sk-toggleable__control:checked~label.sk-toggleable__label {background-color: #d4ebff;}#sk-container-id-11 input.sk-hidden--visually {border: 0;clip: rect(1px 1px 1px 1px);clip: rect(1px, 1px, 1px, 1px);height: 1px;margin: -1px;overflow: hidden;padding: 0;position: absolute;width: 1px;}#sk-container-id-11 div.sk-estimator {font-family: monospace;background-color: #f0f8ff;border: 1px dotted black;border-radius: 0.25em;box-sizing: border-box;margin-bottom: 0.5em;}#sk-container-id-11 div.sk-estimator:hover {background-color: #d4ebff;}#sk-container-id-11 div.sk-parallel-item::after {content: \"\";width: 100%;border-bottom: 1px solid gray;flex-grow: 1;}#sk-container-id-11 div.sk-label:hover label.sk-toggleable__label {background-color: #d4ebff;}#sk-container-id-11 div.sk-serial::before {content: \"\";position: absolute;border-left: 1px solid gray;box-sizing: border-box;top: 0;bottom: 0;left: 50%;z-index: 0;}#sk-container-id-11 div.sk-serial {display: flex;flex-direction: column;align-items: center;background-color: white;padding-right: 0.2em;padding-left: 0.2em;position: relative;}#sk-container-id-11 div.sk-item {position: relative;z-index: 1;}#sk-container-id-11 div.sk-parallel {display: flex;align-items: stretch;justify-content: center;background-color: white;position: relative;}#sk-container-id-11 div.sk-item::before, #sk-container-id-11 div.sk-parallel-item::before {content: \"\";position: absolute;border-left: 1px solid gray;box-sizing: border-box;top: 0;bottom: 0;left: 50%;z-index: -1;}#sk-container-id-11 div.sk-parallel-item {display: flex;flex-direction: column;z-index: 1;position: relative;background-color: white;}#sk-container-id-11 div.sk-parallel-item:first-child::after {align-self: flex-end;width: 50%;}#sk-container-id-11 div.sk-parallel-item:last-child::after {align-self: flex-start;width: 50%;}#sk-container-id-11 div.sk-parallel-item:only-child::after {width: 0;}#sk-container-id-11 div.sk-dashed-wrapped {border: 1px dashed gray;margin: 0 0.4em 0.5em 0.4em;box-sizing: border-box;padding-bottom: 0.4em;background-color: white;}#sk-container-id-11 div.sk-label label {font-family: monospace;font-weight: bold;display: inline-block;line-height: 1.2em;}#sk-container-id-11 div.sk-label-container {text-align: center;}#sk-container-id-11 div.sk-container {/* jupyter's `normalize.less` sets `[hidden] { display: none; }` but bootstrap.min.css set `[hidden] { display: none !important; }` so we also need the `!important` here to be able to override the default hidden behavior on the sphinx rendered scikit-learn.org. See: https://github.com/scikit-learn/scikit-learn/issues/21755 */display: inline-block !important;position: relative;}#sk-container-id-11 div.sk-text-repr-fallback {display: none;}</style><div id=\"sk-container-id-11\" class=\"sk-top-container\"><div class=\"sk-text-repr-fallback\"><pre>AdstockGeometric(alpha=0.4)</pre><b>In a Jupyter environment, please rerun this cell to show the HTML representation or trust the notebook. <br />On GitHub, the HTML representation is unable to render, please try loading this page with nbviewer.org.</b></div><div class=\"sk-container\" hidden><div class=\"sk-item\"><div class=\"sk-estimator sk-toggleable\"><input class=\"sk-toggleable__control sk-hidden--visually\" id=\"sk-estimator-id-8\" type=\"checkbox\" checked><label for=\"sk-estimator-id-8\" class=\"sk-toggleable__label sk-toggleable__label-arrow\">AdstockGeometric</label><div class=\"sk-toggleable__content\"><pre>AdstockGeometric(alpha=0.4)</pre></div></div></div></div></div>"
      ],
      "text/plain": [
       "AdstockGeometric(alpha=0.4)"
      ]
     },
     "execution_count": 187,
     "metadata": {},
     "output_type": "execute_result"
    }
   ],
   "source": [
    "ads = AdstockGeometric(0.4)\n",
    "x = [1.0,0,0,0,0]\n",
    "ads.fit(x)"
   ]
  },
  {
   "cell_type": "code",
   "execution_count": 188,
   "metadata": {},
   "outputs": [
    {
     "data": {
      "text/plain": [
       "array([1.    , 0.4   , 0.16  , 0.064 , 0.0256])"
      ]
     },
     "execution_count": 188,
     "metadata": {},
     "output_type": "execute_result"
    }
   ],
   "source": [
    "ads.transform(x)"
   ]
  },
  {
   "cell_type": "code",
   "execution_count": 189,
   "metadata": {},
   "outputs": [
    {
     "data": {
      "text/plain": [
       "<BarContainer object of 5 artists>"
      ]
     },
     "execution_count": 189,
     "metadata": {},
     "output_type": "execute_result"
    },
    {
     "data": {
      "image/png": "[encoded data removed]",
      "text/plain": [
       "<Figure size 640x480 with 1 Axes>"
      ]
     },
     "metadata": {},
     "output_type": "display_data"
    }
   ],
   "source": [
    "plt.bar(range(len(x)),y)"
   ]
  },
  {
   "cell_type": "code",
   "execution_count": 193,
   "metadata": {},
   "outputs": [
    {
     "data": {
      "text/plain": [
       "array([1.    , 0.4   , 0.16  , 0.064 , 0.0256])"
      ]
     },
     "execution_count": 193,
     "metadata": {},
     "output_type": "execute_result"
    }
   ],
   "source": [
    "AdstockGeometric(0.4).fit_transform(x)"
   ]
  },
  {
   "cell_type": "code",
   "execution_count": 194,
   "metadata": {},
   "outputs": [],
   "source": [
    "mmm_data = pd.read_csv(\"data_raw_Robyn.csv\")"
   ]
  },
  {
   "cell_type": "code",
   "execution_count": 197,
   "metadata": {},
   "outputs": [
    {
     "data": {
      "text/html": [
       "<div>\n",
       "<style scoped>\n",
       "    .dataframe tbody tr th:only-of-type {\n",
       "        vertical-align: middle;\n",
       "    }\n",
       "\n",
       "    .dataframe tbody tr th {\n",
       "        vertical-align: top;\n",
       "    }\n",
       "\n",
       "    .dataframe thead th {\n",
       "        text-align: right;\n",
       "    }\n",
       "</style>\n",
       "<table border=\"1\" class=\"dataframe\">\n",
       "  <thead>\n",
       "    <tr style=\"text-align: right;\">\n",
       "      <th></th>\n",
       "      <th>DATE</th>\n",
       "      <th>revenue</th>\n",
       "      <th>tv_S</th>\n",
       "      <th>ooh_S</th>\n",
       "      <th>print_S</th>\n",
       "      <th>facebook_I</th>\n",
       "      <th>search_clicks_P</th>\n",
       "      <th>search_S</th>\n",
       "      <th>competitor_sales_B</th>\n",
       "      <th>facebook_S</th>\n",
       "      <th>events</th>\n",
       "      <th>newsletter</th>\n",
       "    </tr>\n",
       "  </thead>\n",
       "  <tbody>\n",
       "    <tr>\n",
       "      <th>0</th>\n",
       "      <td>2015-11-23</td>\n",
       "      <td>2.754372e+06</td>\n",
       "      <td>167687.6</td>\n",
       "      <td>0</td>\n",
       "      <td>95463.666667</td>\n",
       "      <td>7.290385e+07</td>\n",
       "      <td>0.000000</td>\n",
       "      <td>0</td>\n",
       "      <td>8125009</td>\n",
       "      <td>228213.987444</td>\n",
       "      <td>na</td>\n",
       "      <td>19401.653846</td>\n",
       "    </tr>\n",
       "    <tr>\n",
       "      <th>1</th>\n",
       "      <td>2015-11-30</td>\n",
       "      <td>2.584277e+06</td>\n",
       "      <td>214600.9</td>\n",
       "      <td>0</td>\n",
       "      <td>0.000000</td>\n",
       "      <td>1.658110e+07</td>\n",
       "      <td>29511.715457</td>\n",
       "      <td>31000</td>\n",
       "      <td>7901549</td>\n",
       "      <td>34258.573511</td>\n",
       "      <td>na</td>\n",
       "      <td>14791.000000</td>\n",
       "    </tr>\n",
       "    <tr>\n",
       "      <th>2</th>\n",
       "      <td>2015-12-07</td>\n",
       "      <td>2.547387e+06</td>\n",
       "      <td>0.0</td>\n",
       "      <td>248022</td>\n",
       "      <td>3404.000000</td>\n",
       "      <td>4.995477e+07</td>\n",
       "      <td>36132.358958</td>\n",
       "      <td>28400</td>\n",
       "      <td>8300197</td>\n",
       "      <td>127691.261335</td>\n",
       "      <td>na</td>\n",
       "      <td>14544.000000</td>\n",
       "    </tr>\n",
       "    <tr>\n",
       "      <th>3</th>\n",
       "      <td>2015-12-14</td>\n",
       "      <td>2.875220e+06</td>\n",
       "      <td>625877.3</td>\n",
       "      <td>0</td>\n",
       "      <td>132600.000000</td>\n",
       "      <td>3.164930e+07</td>\n",
       "      <td>36804.210958</td>\n",
       "      <td>31900</td>\n",
       "      <td>8122883</td>\n",
       "      <td>84014.720306</td>\n",
       "      <td>na</td>\n",
       "      <td>2800.000000</td>\n",
       "    </tr>\n",
       "    <tr>\n",
       "      <th>4</th>\n",
       "      <td>2015-12-21</td>\n",
       "      <td>2.215953e+06</td>\n",
       "      <td>0.0</td>\n",
       "      <td>520005</td>\n",
       "      <td>0.000000</td>\n",
       "      <td>8.802269e+06</td>\n",
       "      <td>28401.744069</td>\n",
       "      <td>27100</td>\n",
       "      <td>7105985</td>\n",
       "      <td>20687.478156</td>\n",
       "      <td>na</td>\n",
       "      <td>15478.000000</td>\n",
       "    </tr>\n",
       "  </tbody>\n",
       "</table>\n",
       "</div>"
      ],
      "text/plain": [
       "         DATE       revenue      tv_S   ooh_S        print_S    facebook_I  \\\n",
       "0  2015-11-23  2.754372e+06  167687.6       0   95463.666667  7.290385e+07   \n",
       "1  2015-11-30  2.584277e+06  214600.9       0       0.000000  1.658110e+07   \n",
       "2  2015-12-07  2.547387e+06       0.0  248022    3404.000000  4.995477e+07   \n",
       "3  2015-12-14  2.875220e+06  625877.3       0  132600.000000  3.164930e+07   \n",
       "4  2015-12-21  2.215953e+06       0.0  520005       0.000000  8.802269e+06   \n",
       "\n",
       "   search_clicks_P  search_S  competitor_sales_B     facebook_S events  \\\n",
       "0         0.000000         0             8125009  228213.987444     na   \n",
       "1     29511.715457     31000             7901549   34258.573511     na   \n",
       "2     36132.358958     28400             8300197  127691.261335     na   \n",
       "3     36804.210958     31900             8122883   84014.720306     na   \n",
       "4     28401.744069     27100             7105985   20687.478156     na   \n",
       "\n",
       "     newsletter  \n",
       "0  19401.653846  \n",
       "1  14791.000000  \n",
       "2  14544.000000  \n",
       "3   2800.000000  \n",
       "4  15478.000000  "
      ]
     },
     "execution_count": 197,
     "metadata": {},
     "output_type": "execute_result"
    }
   ],
   "source": [
    "mmm_data.head()"
   ]
  },
  {
   "cell_type": "code",
   "execution_count": 200,
   "metadata": {},
   "outputs": [
    {
     "name": "stdout",
     "output_type": "stream",
     "text": [
      "============\n",
      "tv_S\n",
      "208\n",
      "[1.67687600e+05 2.98444700e+05 1.49222350e+05 7.00488475e+05\n",
      " 3.50244238e+05 4.24311919e+05 2.17308859e+05 1.30796130e+05\n",
      " 6.53980648e+04 3.26990324e+04 1.40188216e+05 7.00941081e+04\n",
      " 5.32120354e+05 2.66060177e+05 4.44702289e+05 2.22351144e+05\n",
      " 2.59468872e+05 1.29734436e+05 6.48672180e+04 3.24336090e+04\n",
      " 1.62168045e+04 9.15589023e+04 4.57794511e+04 2.28897256e+04\n",
      " 1.14448628e+04 5.72243139e+03 2.86121570e+03 1.43060785e+03\n",
      " 7.15303924e+02 3.57651962e+02 1.53721726e+05 7.68608630e+04\n",
      " 1.14338031e+05 5.71690157e+04 4.28376079e+04 2.14188039e+04\n",
      " 2.22061302e+05 1.11030651e+05 2.70245425e+05 1.35122713e+05\n",
      " 2.47495056e+05 2.83211328e+05 1.41605664e+05 7.08028320e+04\n",
      " 3.54014160e+04 1.10172551e+06 5.50862754e+05 8.85851477e+05\n",
      " 4.42925739e+05 9.26423769e+05 4.63211885e+05 6.24038842e+05\n",
      " 3.64197321e+05 1.82098661e+05 1.97957330e+05 9.89786651e+04\n",
      " 4.94893326e+04 8.32652266e+05 7.24233733e+05 3.62116867e+05\n",
      " 2.25408133e+05 1.12704067e+05 3.58189233e+05 1.79094617e+05\n",
      " 8.95473083e+04 4.47736542e+04 2.23868271e+04 1.11934135e+04\n",
      " 8.33033068e+04 4.16516534e+04 2.08258267e+04 1.04129133e+04\n",
      " 5.20645667e+03 5.86211283e+04 2.93105642e+04 2.89327182e+05\n",
      " 1.44663591e+05 7.23317955e+04 3.61658978e+04 1.80829489e+04\n",
      " 7.74824744e+04 3.87412372e+04 2.91318219e+05 1.45659109e+05\n",
      " 1.07035255e+05 5.35176273e+04 1.00737314e+05 5.03686568e+04\n",
      " 1.10571228e+05 5.52856142e+04 2.82995707e+05 1.41497854e+05\n",
      " 9.54917327e+05 4.77458663e+05 6.05248832e+05 3.02624416e+05\n",
      " 7.78791008e+05 1.22417890e+06 9.46872852e+05 4.73436426e+05\n",
      " 5.69422013e+05 3.19550206e+05 3.18392703e+05 1.59196352e+05\n",
      " 4.93803176e+05 2.46901588e+05 3.40377394e+05 1.70188697e+05\n",
      " 5.63212248e+05 9.59724024e+05 4.79862012e+05 2.39931006e+05\n",
      " 4.13134803e+05 2.06567402e+05 2.92052701e+05 1.46026350e+05\n",
      " 1.41752275e+05 7.08761376e+04 1.28108869e+05 6.40544344e+04\n",
      " 4.30429117e+05 2.15214559e+05 2.55686079e+05 1.27843040e+05\n",
      " 6.39215198e+04 3.19607599e+04 1.59803800e+04 7.99018998e+03\n",
      " 3.99509499e+03 1.99754749e+03 8.10207375e+03 4.05103687e+03\n",
      " 2.02551844e+03 6.33728592e+04 3.16864296e+04 1.58432148e+04\n",
      " 1.17586207e+05 5.87931037e+04 9.58149519e+04 1.20874176e+05\n",
      " 6.04370880e+04 1.28029744e+05 6.40148720e+04 4.93730836e+05\n",
      " 2.46865418e+05 2.10893309e+05 1.05446654e+05 5.27233272e+04\n",
      " 3.30211636e+04 1.19178638e+06 5.95893191e+05 6.31617995e+05\n",
      " 3.15808998e+05 3.47579299e+05 1.73789649e+05 5.17026725e+05\n",
      " 2.58513362e+05 5.30695681e+05 2.65347841e+05 1.32673920e+05\n",
      " 6.63369601e+04 1.21851778e+06 9.94608190e+05 4.97304095e+05\n",
      " 3.35531848e+05 1.67765924e+05 3.21455962e+05 1.60727981e+05\n",
      " 1.75785290e+05 8.78926452e+04 1.79853523e+05 8.99267613e+04\n",
      " 8.61407807e+04 4.30703903e+04 4.76605952e+04 2.38302976e+04\n",
      " 3.71088749e+05 1.85544374e+05 1.29360187e+05 6.46800936e+04\n",
      " 6.00592468e+04 3.00296234e+04 2.34317712e+05 1.17158856e+05\n",
      " 5.85794279e+04 2.92897140e+04 1.46448570e+04 5.35260285e+04\n",
      " 2.67630142e+04 5.29092071e+04 2.64546036e+04 1.03598602e+05\n",
      " 5.17993009e+04 1.23474450e+05 6.17372252e+04 3.08686126e+04\n",
      " 1.54343063e+04 9.41525315e+03 3.74216127e+05 1.87108063e+05\n",
      " 3.02181132e+05 1.51090566e+05 2.20024883e+05 1.10012441e+05\n",
      " 2.09923821e+05 1.26944410e+05 8.59252052e+04 4.29626026e+04]\n",
      "============\n",
      "ooh_S\n",
      "208\n",
      "[      0       0  248022  124011  582010  291005  570665  285332  142666\n",
      "   71333  115311   57655   28827   14413    7206    3603   84290   42145\n",
      "  144988   72494  160773   80386   40193   20096  103719   51859  259259\n",
      "  129629   64814   32407  248531  124265   62132   31066  614864  307432\n",
      "  461623  230811  115405   57702  328187  328737  464585  293594  451251\n",
      "  454131  227065  169399  382660  191330  363044  181522  362670  181335\n",
      "  538943  269471  762710  381355 1041357  520678  260339  130169   65084\n",
      "   32542  255753  127876   63938   31969   15984    7992   49889   24944\n",
      "  950650  475325  792952  396476  772637  386318  270046  135023  147174\n",
      "   73587   36793  315831  157915   78957  242318  121159  445779  419513\n",
      "  209756  104878   52439   26219  294668  147334  344724  281793  754464\n",
      "  377232  275037  137518  665992  332996  363945  181972  255690  127845\n",
      "  236125  118062   59031   36916   18458  115750   57875   28937  116066\n",
      "   58033  134337   67168  203467  101733  204457  102228   72222   36111\n",
      "  314968  157484  190631   95315   96948   48474   24237   12118   38802\n",
      "   19401  324890  162445  192818   96409   48204  197679   98839  248979\n",
      "  124489  190144   95072  134012  121981  110166   55083  145867   72933\n",
      "   36466  290843  145421  160935   80467  140656   70328   63971   31985\n",
      "   15992    8614    4307   53294   26647   13323    6661    3330   59571\n",
      "   29785   14892    7446   14533    7266    7490    3745    1872     936\n",
      "     468     234   10934   12344    6172    3086    1543     771     385\n",
      "     192  124718   62359  103240   51620   89460   44730   94594   47297\n",
      "   31607   37294   18647   68302   34151   77508   38754   33471   16735\n",
      "    8367]\n",
      "============\n",
      "print_S\n",
      "208\n",
      "[9.54636667e+04 4.77318333e+04 2.72699167e+04 1.46234958e+05\n",
      " 7.31174792e+04 2.75976073e+05 1.37988036e+05 2.45853685e+05\n",
      " 1.22926842e+05 1.45792755e+05 7.28963773e+04 7.21748553e+04\n",
      " 5.44504277e+04 2.72252138e+04 1.36126069e+04 1.30601970e+05\n",
      " 6.53009851e+04 3.26504925e+04 1.18170913e+05 5.90854565e+04\n",
      " 2.95427282e+04 1.47713641e+04 7.38568206e+03 9.75821744e+04\n",
      " 4.87910872e+04 2.43955436e+04 1.21977718e+04 6.09888590e+03\n",
      " 3.04944295e+03 1.52472147e+03 7.62360737e+02 3.81180369e+02\n",
      " 3.89535902e+04 1.94767951e+04 4.55933975e+04 2.27966988e+04\n",
      " 1.13983494e+04 1.17575080e+04 5.87875401e+03 1.07787377e+05\n",
      " 5.38936885e+04 5.00571776e+04 2.50285888e+04 2.04038961e+05\n",
      " 1.02019481e+05 1.24608407e+05 1.42732537e+05 7.13662684e+04\n",
      " 1.05890468e+05 5.29452338e+04 1.13051284e+05 5.65256418e+04\n",
      " 8.29608209e+04 7.25524104e+04 3.62762052e+04 1.81381026e+04\n",
      " 9.06905131e+03 4.53452565e+03 2.12253263e+05 1.06126631e+05\n",
      " 6.45806490e+04 1.13147658e+05 5.65738289e+04 2.82869145e+04\n",
      " 1.41434572e+04 8.72543953e+04 4.36271976e+04 1.27021932e+05\n",
      " 6.35109661e+04 1.80659150e+05 9.03295749e+04 4.51647874e+04\n",
      " 2.25823937e+04 1.12911969e+04 5.64559843e+03 2.82279921e+03\n",
      " 1.41139961e+03 7.05699804e+02 3.52849902e+02 5.39867583e+04\n",
      " 2.69933791e+04 1.34966896e+04 6.74834479e+03 3.83198391e+04\n",
      " 9.09579195e+04 4.54789598e+04 2.09920813e+05 1.04960407e+05\n",
      " 6.33735366e+04 1.02691102e+05 5.13455508e+04 1.10784109e+05\n",
      " 5.53920544e+04 2.76960272e+04 4.84256803e+04 2.42128401e+04\n",
      " 1.21064201e+04 6.05321003e+03 1.41813605e+05 7.09068025e+04\n",
      " 3.54534013e+04 1.77267006e+04 1.81662684e+05 9.08313418e+04\n",
      " 5.55113376e+04 9.97690021e+04 4.98845011e+04 2.49422505e+04\n",
      " 1.24711253e+04 1.18993896e+05 9.91846146e+04 4.95923073e+04\n",
      " 1.40901154e+05 2.15556243e+05 1.07778122e+05 8.94900609e+04\n",
      " 4.47450304e+04 6.97081819e+04 1.09875091e+05 5.49375455e+04\n",
      " 1.81119773e+05 9.05598864e+04 6.76986099e+04 3.38493049e+04\n",
      " 1.69246525e+04 8.46232623e+03 4.23116312e+03 2.11558156e+03\n",
      " 1.05779078e+03 5.15562287e+04 2.57781144e+04 4.44297238e+04\n",
      " 2.22148619e+04 5.17924310e+04 2.58962155e+04 9.08291077e+04\n",
      " 4.54145539e+04 1.08866610e+05 5.44333051e+04 6.60116526e+04\n",
      " 3.30058263e+04 7.05039131e+04 3.52519566e+04 1.76259783e+04\n",
      " 8.81298914e+03 1.01998279e+04 9.11991395e+03 7.71979570e+04\n",
      " 3.85989785e+04 3.95378226e+04 3.91925780e+04 2.73896223e+04\n",
      " 1.36948112e+04 2.28084056e+04 2.23205361e+04 1.11602681e+04\n",
      " 5.58013403e+03 1.16261067e+05 5.81305335e+04 7.61852668e+04\n",
      " 3.80926334e+04 7.49359834e+04 3.74679917e+04 2.55109958e+04\n",
      " 1.82688313e+04 3.10360823e+04 1.55180411e+04 3.97993539e+04\n",
      " 2.88390103e+04 1.81821718e+04 1.39347526e+04 6.96737629e+03\n",
      " 3.48368814e+03 1.74184407e+03 8.70922036e+02 4.35461018e+02\n",
      " 2.17730509e+02 2.25805319e+04 1.12902660e+04 9.91394663e+04\n",
      " 4.95697332e+04 4.07128666e+04 4.87781000e+04 2.43890500e+04\n",
      " 2.26338583e+04 1.13169292e+04 5.65846458e+03 2.82923229e+03\n",
      " 1.41461615e+03 7.07308073e+02 3.53654036e+02 1.76827018e+02\n",
      " 8.84135091e+01 4.42067545e+01 2.21033773e+01 2.41630517e+04\n",
      " 1.20815258e+04 1.09024430e+05 5.45122148e+04 1.36788441e+05\n",
      " 6.83942204e+04 1.81264110e+05 9.06320551e+04 1.99039694e+05\n",
      " 9.95198471e+04 6.72359236e+04 5.76692951e+04 2.88346476e+04]\n"
     ]
    }
   ],
   "source": [
    "spend_cols = [\"tv_S\",\"ooh_S\",\"print_S\"]\n",
    "\n",
    "for col in spend_cols:\n",
    "    print(\"============\")\n",
    "    print(col)\n",
    "    print(len(AdstockGeometric(alpha=0.5).fit_transform(mmm_data[col])))\n",
    "    print(AdstockGeometric(alpha=0.5).fit_transform(mmm_data[col]))\n"
   ]
  },
  {
   "cell_type": "code",
   "execution_count": null,
   "metadata": {},
   "outputs": [],
   "source": []
  }
 ],
 "metadata": {
  "kernelspec": {
   "display_name": "base",
   "language": "python",
   "name": "python3"
  },
  "language_info": {
   "codemirror_mode": {
    "name": "ipython",
    "version": 3
   },
   "file_extension": ".py",
   "mimetype": "text/x-python",
   "name": "python",
   "nbconvert_exporter": "python",
   "pygments_lexer": "ipython3",
   "version": "3.10.9"
  }
 },
 "nbformat": 4,
 "nbformat_minor": 2
}
